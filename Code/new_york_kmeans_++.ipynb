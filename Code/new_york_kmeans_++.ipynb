{
 "cells": [
  {
   "cell_type": "code",
   "execution_count": null,
   "id": "90b7a25d",
   "metadata": {},
   "outputs": [],
   "source": [
    "pip install swifter"
   ]
  },
  {
   "cell_type": "code",
   "execution_count": 4,
   "id": "da8ed7e5",
   "metadata": {},
   "outputs": [
    {
     "name": "stderr",
     "output_type": "stream",
     "text": [
      "/tmp/ipykernel_43208/3627345752.py:15: DtypeWarning: Columns (6) have mixed types. Specify dtype option on import or set low_memory=False.\n",
      "  comments_df=pd.read_csv('cleaned_data.csv')\n"
     ]
    },
    {
     "data": {
      "text/plain": [
       "Index(['actual', 'administr', 'agre', 'allow', 'alreadi', 'also', 'alway',\n",
       "       'america', 'american', 'anoth',\n",
       "       ...\n",
       "       'without', 'wonder', 'word', 'work', 'world', 'would', 'ye', 'year',\n",
       "       'yet', 'editorsSelection'],\n",
       "      dtype='object', length=209)"
      ]
     },
     "execution_count": 4,
     "metadata": {},
     "output_type": "execute_result"
    }
   ],
   "source": [
    "import pandas as pd\n",
    "import numpy as np\n",
    "import matplotlib.pyplot as plt\n",
    "import seaborn as sns\n",
    "import string\n",
    "import nltk\n",
    "import re\n",
    "from nltk.corpus import stopwords\n",
    "from nltk.stem import PorterStemmer\n",
    "from nltk.tokenize import word_tokenize\n",
    "from sklearn.feature_extraction.text import CountVectorizer\n",
    "from tqdm import tqdm\n",
    "\n",
    "bag_of_words_df=pd.read_csv('bag_of_words.csv')\n",
    "comments_df=pd.read_csv('cleaned_data.csv')\n",
    "\n",
    "bag_of_words_df=bag_of_words_df.join(comments_df['editorsSelection'].replace({True:1,False:0}))\n",
    "\n",
    "bag_of_words_df.columns\n",
    "\n"
   ]
  },
  {
   "cell_type": "code",
   "execution_count": 2,
   "id": "1c710e2f",
   "metadata": {},
   "outputs": [],
   "source": [
    "import swifter"
   ]
  },
  {
   "cell_type": "code",
   "execution_count": 5,
   "id": "831e864c",
   "metadata": {},
   "outputs": [],
   "source": [
    "import pandas as pd\n",
    "import numpy as np\n",
    "import swifter\n",
    "import time\n",
    "\n",
    "from scipy.spatial.distance import euclidean\n",
    "\n",
    "def initialize_centroids_plus(df,k):\n",
    "    \"\"\"\n",
    "    Function to calculate the random centroid using kmeans ++ technique.\n",
    "    Input: \n",
    "        - df: pandas dataframe with the data\n",
    "        - k: number of clusters\n",
    "    Output: \n",
    "        - centroid.T: pandas dataframe with all centroids initialized\n",
    "    \"\"\"\n",
    "    #Initialize random centroids from dataset\n",
    "    centroid = []\n",
    "    centroid.append(df.apply(lambda x: float(x.sample())))\n",
    "    centroid=pd.DataFrame(centroid)\n",
    "    column=centroid.columns.to_list()\n",
    "    ##Randomly created first centroid from the domain of each column in the dataframe\n",
    "    \n",
    "    for i in range(1,k):\n",
    "    ## The above for loop is for generating k-1 clusters as first random cluster is already generated\n",
    "        distance=pd.DataFrame()\n",
    "    ## Creating dataframe of distance. This will store the distance of each datapoint from each cluster\n",
    "        for j in range(len(centroid)):\n",
    "    ##This for loop is for finding distance from each centroid\n",
    "            a=pd.DataFrame([np.sqrt(np.sum(np.square(df[column] - centroid.iloc[j][column]), axis=1))]).T\n",
    "            \n",
    "            distance=pd.concat([distance,a],axis=1)\n",
    "    ## Distance_min stores the minimum distance of each point from all the centroids   \n",
    "        distance_min=distance.min(axis=1)\n",
    "    ##Calculates probability for each datapoint\n",
    "        probability = distance_min / distance_min.sum()\n",
    "    ## Selecting the next centroid based on the probability which is proportional to find square distance\n",
    "        new_centroid = pd.DataFrame(df.iloc[np.random.choice(len(df),p=probability)]).T\n",
    "    \n",
    "        centroid=pd.concat([centroid,new_centroid],ignore_index=True)\n",
    "        centroid.index.name='Label'\n",
    "    ## Concatenated the centroid dataframe with new centroid and loop continues until all k centroids are initialized randomly\n",
    "    return centroid.T\n",
    "        \n",
    "\n",
    "\n",
    "def assign_labels(df, centroids):\n",
    "    \"\"\"\n",
    "    Function to calculate the closest centroid label for each row in a dataframe.\n",
    "    Input: \n",
    "        - df: pandas dataframe with the data\n",
    "        - centroids: pandas dataframe with the centroids as columns and index as label\n",
    "    Output: \n",
    "        - distances.idxmin(axis=1): pandas series with the label of the closest centroid for each row in df\n",
    "    \"\"\"\n",
    "    distances = centroids.swifter.apply(lambda x: np.sqrt(((df - x) ** 2).sum(axis=1))) # Calculate the Euclidean distance between each row in df and each centroid\n",
    "    return distances.idxmin(axis=1) # Get the index of the minimum distance, which corresponds to the label of the closest centroid\n",
    "\n",
    "\n",
    "def new_centroids(df_label, df1):\n",
    "    \"\"\"\n",
    "    Function to calculate the new centroids based on the current labels of the rows.\n",
    "    Input: \n",
    "        - df_label: pandas series with the label of the closest centroid for each row in df1\n",
    "        - df1: pandas dataframe with the data\n",
    "    Output: \n",
    "        - new_centroids.T: pandas dataframe with the new centroids as columns and index as feature name\n",
    "    \"\"\"\n",
    "    joined_df = df1.join(df_label)\n",
    "    joined_df.rename(columns={0: 'Label'}, inplace=True) # Rename the column with the label\n",
    "    # Calculate the mean of the rows with the same label\n",
    "    return joined_df.groupby('Label').mean().T # Transpose the dataframe to have the new centroids as columns and index as feature name\n",
    "\n",
    "\n",
    "\n",
    "\n",
    "\n",
    "def error_clusters(df_new_centroids,df1,df_label):\n",
    "    \"\"\"\n",
    "    Calculate the error rate of each cluster.\n",
    "\n",
    "    Args:\n",
    "    - df_label (pandas.DataFrame): the label of the nearest centroid for each data point.\n",
    "    - df1 (pandas.DataFrame): the dataset.\n",
    "    - df_new_centroids (pandas.DataFrame): The new centroids computed in the current iteration.\n",
    "\n",
    "    Returns:\n",
    "    - error_rate (float): the total error rate of all clusters.\n",
    "    \"\"\"\n",
    "    \n",
    "\n",
    "    #Calculate mean value \n",
    "    mean_centroid=df1.groupby('editorsSelection').mean().reset_index()\n",
    "    # Transpose the new centroids dataframe and reset the index\n",
    "    new_centroids= df_new_centroids.T\n",
    "    # Get the columns of the data dataframe\n",
    "    columns = df1.columns\n",
    "\n",
    "    sse = []\n",
    "    # Compute the distance between each data point and its assigned centroid\n",
    "    for i in range(len(new_centroids)):   #### centroid\n",
    "        s=[]\n",
    "        for j in range(len(mean_centroid)): ### mean centroid\n",
    "        # Compute the distance between each data point and its assigned centroid\n",
    "            distance = np.sum(np.square(mean_centroid[mean_centroid['editorsSelection']==j][columns] - new_centroids.iloc[i][columns]), axis=1)\n",
    "            s.append(distance.iloc[0])\n",
    "        sse.append(s)\n",
    "    ## key  is the cluster number and value is the merged value\n",
    "    merge_label=pd.DataFrame(sse).idxmin(axis=1).to_dict() \n",
    "    ## Merging cluster based on the target variable\n",
    "    df_label[0]=df_label[0].replace(merge_label)\n",
    "    \n",
    "    df1 = df1.join(df_label) # add the label column to the dataset\n",
    "    df1.rename(columns={0: 'Label'}, inplace=True) # rename the label column\n",
    "    error_list = []\n",
    "    for i in df1['Label'].value_counts().index:\n",
    "        df_cluster = df1[df1['Label'] == i] # filter the dataset to include only the data points in the current cluster\n",
    "        y = len(df_cluster[df_cluster['editorsSelection'] == 1]) # count the number of data points in the current cluster that were readmitted\n",
    "        n = len(df_cluster[df_cluster['editorsSelection'] == 0]) # count the number of data points in the current cluster that were not readmitted\n",
    "        if y == 0 and n == 0:\n",
    "            error = 0\n",
    "        else:\n",
    "            error = n / (n + y) # calculate the error rate of the current cluster\n",
    "        error_list.append(error)\n",
    "    return round(sum(error_list),4)\n",
    "\n",
    "\n",
    "def sum_of_square_error(new_centroids, data, labels):\n",
    "    \"\"\"\n",
    "    Computes the sum of squared errors between the data points and their assigned centroids.\n",
    "\n",
    "    Args:\n",
    "    new_centroids (DataFrame): The new centroids computed in the current iteration.\n",
    "    data (DataFrame): The input data points.\n",
    "    labels (DataFrame): The labels assigned to each data point.\n",
    "\n",
    "    Returns:\n",
    "    The sum of squared errors.\n",
    "    \"\"\"\n",
    "    # Transpose the new centroids dataframe and reset the index\n",
    "    new_centroids = new_centroids.T.reset_index()\n",
    "    # Get the columns of the data dataframe\n",
    "    columns = data.columns\n",
    "    # Join the data dataframe and the labels dataframe\n",
    "    data = data.join(labels)\n",
    "    # Rename the '0' column of the labels dataframe to 'Label'\n",
    "    data.rename(columns={0:'Label'}, inplace=True)\n",
    "    sse = []\n",
    "    # Compute the distance between each data point and its assigned centroid\n",
    "    for i in range(len(new_centroids)):\n",
    "        distance = np.sum(np.square(data[data['Label']==i][columns] - new_centroids.iloc[i][columns]), axis=1)\n",
    "        sse.append(sum(distance))\n",
    "    # Return the sum of squared errors\n",
    "    return np.nansum(sse)   \n",
    "\n",
    "\n",
    "\n",
    "def kmeans_plus_plus(df1,k,tou):\n",
    "    \"\"\"\n",
    "    Function to run the K-means plus plus algorithm.\n",
    "    Input: \n",
    "        - df1: pandas dataframe with the data\n",
    "        - k: integer number of clusters\n",
    "        - tou: float tolerance level to stop the algorithm\n",
    "\n",
    "    \"\"\"\n",
    "    start_time=time.time()\n",
    "    iteration=0\n",
    "    centroids=initialize_centroids_plus(df1,k)\n",
    "    initial_list_of_columns=centroids.columns.to_list()\n",
    "\n",
    "    \n",
    "    while True:\n",
    "        \n",
    "        \n",
    "        #Assigning labels to randomly generated centroids\n",
    "        df_label=assign_labels(df1,centroids)\n",
    "        df_label=pd.DataFrame(df_label)\n",
    "        #Calculating new centroids\n",
    "        \n",
    "        df_new_centroids=new_centroids(df_label,df1)\n",
    "        new_list_of_columns=df_new_centroids.columns.to_list()\n",
    "        #Keeping the number of clusters same\n",
    "        for i in initial_list_of_columns:\n",
    "            if i not in new_list_of_columns:\n",
    "                df_new_centroids[i]=centroids[i]\n",
    "        \n",
    "        #Calculate tao\n",
    "        distance = []\n",
    "        for col in centroids.columns:\n",
    "            col_distance = euclidean(centroids[col], df_new_centroids[col])\n",
    "            distance.append(col_distance)\n",
    "        tao_calculated=float(sum(distance))/k #Used the formula provided for calculating Tao\n",
    "\n",
    " \n",
    "        \n",
    "        \n",
    "        end_time=time.time()\n",
    "        if iteration>100:\n",
    "            print(\"Iteration exceeded\")\n",
    "            error=error_clusters(df_new_centroids,df1,df_label)\n",
    "            sse= sum_of_square_error(df_new_centroids,df1,df_label)\n",
    "            return error,sse,end_time-start_time\n",
    "            \n",
    "        if tao_calculated<tou or iteration >100:   #if the convergence is met, kmeans will stop  or else if the convergence is never met, after 100 iteration code will stop\n",
    "            error=error_clusters(df_new_centroids,df1,df_label)      # otherwise indefinite loop\n",
    "            sse= sum_of_square_error(df_new_centroids,df1,df_label)  \n",
    "            return error,sse,end_time-start_time\n",
    "            break\n",
    "        else:\n",
    "            centroids= df_new_centroids  # In case we need more iterations, the centroids calculated at this step acts as input\n",
    "        \n",
    "        iteration+=1\n"
   ]
  },
  {
   "cell_type": "code",
   "execution_count": 4,
   "id": "f208cd11",
   "metadata": {},
   "outputs": [
    {
     "data": {
      "application/vnd.jupyter.widget-view+json": {
       "model_id": "c4e74435a5e941fb8668335e4ab23c75",
       "version_major": 2,
       "version_minor": 0
      },
      "text/plain": [
       "Pandas Apply:   0%|          | 0/2 [00:00<?, ?it/s]"
      ]
     },
     "metadata": {},
     "output_type": "display_data"
    },
    {
     "data": {
      "text/plain": [
       "(0.9886, 116567341.5728408, 401.4617133140564)"
      ]
     },
     "execution_count": 4,
     "metadata": {},
     "output_type": "execute_result"
    }
   ],
   "source": [
    "kmeans_plus_plus(bag_of_words_df,2,10)"
   ]
  },
  {
   "cell_type": "code",
   "execution_count": 6,
   "id": "77168d01",
   "metadata": {},
   "outputs": [
    {
     "data": {
      "application/vnd.jupyter.widget-view+json": {
       "model_id": "05457ecde6824008ad19926f745403ab",
       "version_major": 2,
       "version_minor": 0
      },
      "text/plain": [
       "Pandas Apply:   0%|          | 0/2 [00:00<?, ?it/s]"
      ]
     },
     "metadata": {},
     "output_type": "display_data"
    },
    {
     "data": {
      "application/vnd.jupyter.widget-view+json": {
       "model_id": "d508c6bb7dbc49f78193e14f72db331a",
       "version_major": 2,
       "version_minor": 0
      },
      "text/plain": [
       "Pandas Apply:   0%|          | 0/2 [00:00<?, ?it/s]"
      ]
     },
     "metadata": {},
     "output_type": "display_data"
    },
    {
     "data": {
      "application/vnd.jupyter.widget-view+json": {
       "model_id": "c054b86a56d04c2ead11bc02c8f702f9",
       "version_major": 2,
       "version_minor": 0
      },
      "text/plain": [
       "Pandas Apply:   0%|          | 0/2 [00:00<?, ?it/s]"
      ]
     },
     "metadata": {},
     "output_type": "display_data"
    },
    {
     "data": {
      "application/vnd.jupyter.widget-view+json": {
       "model_id": "9fadb825b960495e8491024455e2ee08",
       "version_major": 2,
       "version_minor": 0
      },
      "text/plain": [
       "Pandas Apply:   0%|          | 0/2 [00:00<?, ?it/s]"
      ]
     },
     "metadata": {},
     "output_type": "display_data"
    },
    {
     "data": {
      "application/vnd.jupyter.widget-view+json": {
       "model_id": "740b3a25f04940a0a313c8082266ac80",
       "version_major": 2,
       "version_minor": 0
      },
      "text/plain": [
       "Pandas Apply:   0%|          | 0/2 [00:00<?, ?it/s]"
      ]
     },
     "metadata": {},
     "output_type": "display_data"
    },
    {
     "data": {
      "application/vnd.jupyter.widget-view+json": {
       "model_id": "01cee16819374d259e6334507f5298ef",
       "version_major": 2,
       "version_minor": 0
      },
      "text/plain": [
       "Pandas Apply:   0%|          | 0/2 [00:00<?, ?it/s]"
      ]
     },
     "metadata": {},
     "output_type": "display_data"
    },
    {
     "data": {
      "application/vnd.jupyter.widget-view+json": {
       "model_id": "27e66ad0b57448a086bcb4ebd19fbe26",
       "version_major": 2,
       "version_minor": 0
      },
      "text/plain": [
       "Pandas Apply:   0%|          | 0/2 [00:00<?, ?it/s]"
      ]
     },
     "metadata": {},
     "output_type": "display_data"
    },
    {
     "data": {
      "application/vnd.jupyter.widget-view+json": {
       "model_id": "ec78028ea72b4f7796a2e94e8dd61a02",
       "version_major": 2,
       "version_minor": 0
      },
      "text/plain": [
       "Pandas Apply:   0%|          | 0/2 [00:00<?, ?it/s]"
      ]
     },
     "metadata": {},
     "output_type": "display_data"
    },
    {
     "data": {
      "application/vnd.jupyter.widget-view+json": {
       "model_id": "190a33f5d41d4ae88f8626966cef9fb6",
       "version_major": 2,
       "version_minor": 0
      },
      "text/plain": [
       "Pandas Apply:   0%|          | 0/2 [00:00<?, ?it/s]"
      ]
     },
     "metadata": {},
     "output_type": "display_data"
    },
    {
     "data": {
      "application/vnd.jupyter.widget-view+json": {
       "model_id": "1cbb1afdfa7e419bb49e3c2c37619f69",
       "version_major": 2,
       "version_minor": 0
      },
      "text/plain": [
       "Pandas Apply:   0%|          | 0/2 [00:00<?, ?it/s]"
      ]
     },
     "metadata": {},
     "output_type": "display_data"
    },
    {
     "data": {
      "application/vnd.jupyter.widget-view+json": {
       "model_id": "f8721befd2fd4d0faae94ed9609490f7",
       "version_major": 2,
       "version_minor": 0
      },
      "text/plain": [
       "Pandas Apply:   0%|          | 0/2 [00:00<?, ?it/s]"
      ]
     },
     "metadata": {},
     "output_type": "display_data"
    },
    {
     "data": {
      "application/vnd.jupyter.widget-view+json": {
       "model_id": "627e6f64daa84c7db263a360303efd61",
       "version_major": 2,
       "version_minor": 0
      },
      "text/plain": [
       "Pandas Apply:   0%|          | 0/2 [00:00<?, ?it/s]"
      ]
     },
     "metadata": {},
     "output_type": "display_data"
    },
    {
     "data": {
      "application/vnd.jupyter.widget-view+json": {
       "model_id": "a185031d54514b90b90d6d3a70af3c8b",
       "version_major": 2,
       "version_minor": 0
      },
      "text/plain": [
       "Pandas Apply:   0%|          | 0/2 [00:00<?, ?it/s]"
      ]
     },
     "metadata": {},
     "output_type": "display_data"
    },
    {
     "data": {
      "application/vnd.jupyter.widget-view+json": {
       "model_id": "8e3843f50de34d5389fd46620389172a",
       "version_major": 2,
       "version_minor": 0
      },
      "text/plain": [
       "Pandas Apply:   0%|          | 0/2 [00:00<?, ?it/s]"
      ]
     },
     "metadata": {},
     "output_type": "display_data"
    },
    {
     "data": {
      "application/vnd.jupyter.widget-view+json": {
       "model_id": "a46ef474551d4f01845bf07ef172971e",
       "version_major": 2,
       "version_minor": 0
      },
      "text/plain": [
       "Pandas Apply:   0%|          | 0/2 [00:00<?, ?it/s]"
      ]
     },
     "metadata": {},
     "output_type": "display_data"
    },
    {
     "data": {
      "application/vnd.jupyter.widget-view+json": {
       "model_id": "e645dad64e9d4b418c93bea4c02ce7f3",
       "version_major": 2,
       "version_minor": 0
      },
      "text/plain": [
       "Pandas Apply:   0%|          | 0/2 [00:00<?, ?it/s]"
      ]
     },
     "metadata": {},
     "output_type": "display_data"
    },
    {
     "data": {
      "application/vnd.jupyter.widget-view+json": {
       "model_id": "f3e92da353c04409ac7b1f2fd5e43ac3",
       "version_major": 2,
       "version_minor": 0
      },
      "text/plain": [
       "Pandas Apply:   0%|          | 0/2 [00:00<?, ?it/s]"
      ]
     },
     "metadata": {},
     "output_type": "display_data"
    },
    {
     "data": {
      "application/vnd.jupyter.widget-view+json": {
       "model_id": "5d108ffef7c8475a88bf23ce47e3c8cd",
       "version_major": 2,
       "version_minor": 0
      },
      "text/plain": [
       "Pandas Apply:   0%|          | 0/2 [00:00<?, ?it/s]"
      ]
     },
     "metadata": {},
     "output_type": "display_data"
    },
    {
     "data": {
      "application/vnd.jupyter.widget-view+json": {
       "model_id": "bbce34ee2c0842b59fe718497923707c",
       "version_major": 2,
       "version_minor": 0
      },
      "text/plain": [
       "Pandas Apply:   0%|          | 0/2 [00:00<?, ?it/s]"
      ]
     },
     "metadata": {},
     "output_type": "display_data"
    },
    {
     "data": {
      "application/vnd.jupyter.widget-view+json": {
       "model_id": "2c19c11ba5f44da38a51ddd76919cda4",
       "version_major": 2,
       "version_minor": 0
      },
      "text/plain": [
       "Pandas Apply:   0%|          | 0/2 [00:00<?, ?it/s]"
      ]
     },
     "metadata": {},
     "output_type": "display_data"
    },
    {
     "data": {
      "application/vnd.jupyter.widget-view+json": {
       "model_id": "d8d22a09ba3d45ec9b0690f34c01b740",
       "version_major": 2,
       "version_minor": 0
      },
      "text/plain": [
       "Pandas Apply:   0%|          | 0/3 [00:00<?, ?it/s]"
      ]
     },
     "metadata": {},
     "output_type": "display_data"
    },
    {
     "data": {
      "application/vnd.jupyter.widget-view+json": {
       "model_id": "2db50ddbe82043b8a209f8bed5f81856",
       "version_major": 2,
       "version_minor": 0
      },
      "text/plain": [
       "Pandas Apply:   0%|          | 0/3 [00:00<?, ?it/s]"
      ]
     },
     "metadata": {},
     "output_type": "display_data"
    },
    {
     "data": {
      "application/vnd.jupyter.widget-view+json": {
       "model_id": "a896f910f7b24b24b4e8711fd7cc2bee",
       "version_major": 2,
       "version_minor": 0
      },
      "text/plain": [
       "Pandas Apply:   0%|          | 0/3 [00:00<?, ?it/s]"
      ]
     },
     "metadata": {},
     "output_type": "display_data"
    },
    {
     "data": {
      "application/vnd.jupyter.widget-view+json": {
       "model_id": "641e035aa6664684a1c2fac931d552cf",
       "version_major": 2,
       "version_minor": 0
      },
      "text/plain": [
       "Pandas Apply:   0%|          | 0/3 [00:00<?, ?it/s]"
      ]
     },
     "metadata": {},
     "output_type": "display_data"
    },
    {
     "data": {
      "application/vnd.jupyter.widget-view+json": {
       "model_id": "dbc86fdf99b34114a3bbbdb636cd1500",
       "version_major": 2,
       "version_minor": 0
      },
      "text/plain": [
       "Pandas Apply:   0%|          | 0/3 [00:00<?, ?it/s]"
      ]
     },
     "metadata": {},
     "output_type": "display_data"
    },
    {
     "data": {
      "application/vnd.jupyter.widget-view+json": {
       "model_id": "039565a0f4af4ca3b326103d3ab2ec1c",
       "version_major": 2,
       "version_minor": 0
      },
      "text/plain": [
       "Pandas Apply:   0%|          | 0/3 [00:00<?, ?it/s]"
      ]
     },
     "metadata": {},
     "output_type": "display_data"
    },
    {
     "data": {
      "application/vnd.jupyter.widget-view+json": {
       "model_id": "d553c74a55724dc58e3fd45b09d84ea5",
       "version_major": 2,
       "version_minor": 0
      },
      "text/plain": [
       "Pandas Apply:   0%|          | 0/3 [00:00<?, ?it/s]"
      ]
     },
     "metadata": {},
     "output_type": "display_data"
    },
    {
     "data": {
      "application/vnd.jupyter.widget-view+json": {
       "model_id": "e81aade3802d4dce95697e65c49af943",
       "version_major": 2,
       "version_minor": 0
      },
      "text/plain": [
       "Pandas Apply:   0%|          | 0/3 [00:00<?, ?it/s]"
      ]
     },
     "metadata": {},
     "output_type": "display_data"
    },
    {
     "data": {
      "application/vnd.jupyter.widget-view+json": {
       "model_id": "549fdddb01294e38af4c04fc5ad6f2ac",
       "version_major": 2,
       "version_minor": 0
      },
      "text/plain": [
       "Pandas Apply:   0%|          | 0/3 [00:00<?, ?it/s]"
      ]
     },
     "metadata": {},
     "output_type": "display_data"
    },
    {
     "data": {
      "application/vnd.jupyter.widget-view+json": {
       "model_id": "3a372e0954cb4c18a5847f12a294a07a",
       "version_major": 2,
       "version_minor": 0
      },
      "text/plain": [
       "Pandas Apply:   0%|          | 0/3 [00:00<?, ?it/s]"
      ]
     },
     "metadata": {},
     "output_type": "display_data"
    },
    {
     "data": {
      "application/vnd.jupyter.widget-view+json": {
       "model_id": "4c11b415c2694007bdf5942c5e266af3",
       "version_major": 2,
       "version_minor": 0
      },
      "text/plain": [
       "Pandas Apply:   0%|          | 0/3 [00:00<?, ?it/s]"
      ]
     },
     "metadata": {},
     "output_type": "display_data"
    },
    {
     "data": {
      "application/vnd.jupyter.widget-view+json": {
       "model_id": "4eb5494a02164827b8a6da00aab65260",
       "version_major": 2,
       "version_minor": 0
      },
      "text/plain": [
       "Pandas Apply:   0%|          | 0/3 [00:00<?, ?it/s]"
      ]
     },
     "metadata": {},
     "output_type": "display_data"
    },
    {
     "data": {
      "application/vnd.jupyter.widget-view+json": {
       "model_id": "d111716129b24bfebe8397663d0972f5",
       "version_major": 2,
       "version_minor": 0
      },
      "text/plain": [
       "Pandas Apply:   0%|          | 0/3 [00:00<?, ?it/s]"
      ]
     },
     "metadata": {},
     "output_type": "display_data"
    },
    {
     "data": {
      "application/vnd.jupyter.widget-view+json": {
       "model_id": "6a4301c2faad4c94a237b975eb1c5933",
       "version_major": 2,
       "version_minor": 0
      },
      "text/plain": [
       "Pandas Apply:   0%|          | 0/3 [00:00<?, ?it/s]"
      ]
     },
     "metadata": {},
     "output_type": "display_data"
    },
    {
     "data": {
      "application/vnd.jupyter.widget-view+json": {
       "model_id": "d28604a555174b47a99ab7567f3df2aa",
       "version_major": 2,
       "version_minor": 0
      },
      "text/plain": [
       "Pandas Apply:   0%|          | 0/3 [00:00<?, ?it/s]"
      ]
     },
     "metadata": {},
     "output_type": "display_data"
    },
    {
     "data": {
      "application/vnd.jupyter.widget-view+json": {
       "model_id": "f3136d48ae63429096cdffc1c197a82e",
       "version_major": 2,
       "version_minor": 0
      },
      "text/plain": [
       "Pandas Apply:   0%|          | 0/3 [00:00<?, ?it/s]"
      ]
     },
     "metadata": {},
     "output_type": "display_data"
    },
    {
     "data": {
      "application/vnd.jupyter.widget-view+json": {
       "model_id": "98002d5989ee4c2d9378a28b53e85a86",
       "version_major": 2,
       "version_minor": 0
      },
      "text/plain": [
       "Pandas Apply:   0%|          | 0/3 [00:00<?, ?it/s]"
      ]
     },
     "metadata": {},
     "output_type": "display_data"
    },
    {
     "data": {
      "application/vnd.jupyter.widget-view+json": {
       "model_id": "bc3a54493ac94db2b5ebb8a13f1e9711",
       "version_major": 2,
       "version_minor": 0
      },
      "text/plain": [
       "Pandas Apply:   0%|          | 0/3 [00:00<?, ?it/s]"
      ]
     },
     "metadata": {},
     "output_type": "display_data"
    },
    {
     "data": {
      "application/vnd.jupyter.widget-view+json": {
       "model_id": "c5b5ca9f7ed5411aa15f24e6a76fedfd",
       "version_major": 2,
       "version_minor": 0
      },
      "text/plain": [
       "Pandas Apply:   0%|          | 0/3 [00:00<?, ?it/s]"
      ]
     },
     "metadata": {},
     "output_type": "display_data"
    },
    {
     "data": {
      "application/vnd.jupyter.widget-view+json": {
       "model_id": "c79599fe31e9451399becf766a117808",
       "version_major": 2,
       "version_minor": 0
      },
      "text/plain": [
       "Pandas Apply:   0%|          | 0/3 [00:00<?, ?it/s]"
      ]
     },
     "metadata": {},
     "output_type": "display_data"
    },
    {
     "data": {
      "application/vnd.jupyter.widget-view+json": {
       "model_id": "84949d345bb0483896e25a4b1b277240",
       "version_major": 2,
       "version_minor": 0
      },
      "text/plain": [
       "Pandas Apply:   0%|          | 0/4 [00:00<?, ?it/s]"
      ]
     },
     "metadata": {},
     "output_type": "display_data"
    },
    {
     "data": {
      "application/vnd.jupyter.widget-view+json": {
       "model_id": "94cbcd91f6f2456da9570401726e9db2",
       "version_major": 2,
       "version_minor": 0
      },
      "text/plain": [
       "Pandas Apply:   0%|          | 0/4 [00:00<?, ?it/s]"
      ]
     },
     "metadata": {},
     "output_type": "display_data"
    },
    {
     "data": {
      "application/vnd.jupyter.widget-view+json": {
       "model_id": "cd63b56bb18f45ef8ac7e3d8b931b3ff",
       "version_major": 2,
       "version_minor": 0
      },
      "text/plain": [
       "Pandas Apply:   0%|          | 0/4 [00:00<?, ?it/s]"
      ]
     },
     "metadata": {},
     "output_type": "display_data"
    },
    {
     "data": {
      "application/vnd.jupyter.widget-view+json": {
       "model_id": "9fd369c4637e4fc2acb666d320f1336d",
       "version_major": 2,
       "version_minor": 0
      },
      "text/plain": [
       "Pandas Apply:   0%|          | 0/4 [00:00<?, ?it/s]"
      ]
     },
     "metadata": {},
     "output_type": "display_data"
    },
    {
     "data": {
      "application/vnd.jupyter.widget-view+json": {
       "model_id": "19b0384930ec4bb3a641f1e16840a89e",
       "version_major": 2,
       "version_minor": 0
      },
      "text/plain": [
       "Pandas Apply:   0%|          | 0/4 [00:00<?, ?it/s]"
      ]
     },
     "metadata": {},
     "output_type": "display_data"
    },
    {
     "data": {
      "application/vnd.jupyter.widget-view+json": {
       "model_id": "43a006be3c48437da82ca7b0dbce4cce",
       "version_major": 2,
       "version_minor": 0
      },
      "text/plain": [
       "Pandas Apply:   0%|          | 0/4 [00:00<?, ?it/s]"
      ]
     },
     "metadata": {},
     "output_type": "display_data"
    },
    {
     "data": {
      "application/vnd.jupyter.widget-view+json": {
       "model_id": "b2e10d5829844f92a569c8406d10c5e2",
       "version_major": 2,
       "version_minor": 0
      },
      "text/plain": [
       "Pandas Apply:   0%|          | 0/4 [00:00<?, ?it/s]"
      ]
     },
     "metadata": {},
     "output_type": "display_data"
    },
    {
     "data": {
      "application/vnd.jupyter.widget-view+json": {
       "model_id": "b6277a7530db45e5a14b5ddfa1e07494",
       "version_major": 2,
       "version_minor": 0
      },
      "text/plain": [
       "Pandas Apply:   0%|          | 0/4 [00:00<?, ?it/s]"
      ]
     },
     "metadata": {},
     "output_type": "display_data"
    },
    {
     "data": {
      "application/vnd.jupyter.widget-view+json": {
       "model_id": "96f93ab10ca446a19bfdf80636874453",
       "version_major": 2,
       "version_minor": 0
      },
      "text/plain": [
       "Pandas Apply:   0%|          | 0/4 [00:00<?, ?it/s]"
      ]
     },
     "metadata": {},
     "output_type": "display_data"
    },
    {
     "data": {
      "application/vnd.jupyter.widget-view+json": {
       "model_id": "d1e69f85e0994bc794040ec1ef13a7df",
       "version_major": 2,
       "version_minor": 0
      },
      "text/plain": [
       "Pandas Apply:   0%|          | 0/4 [00:00<?, ?it/s]"
      ]
     },
     "metadata": {},
     "output_type": "display_data"
    },
    {
     "data": {
      "application/vnd.jupyter.widget-view+json": {
       "model_id": "76c1b72dda594803abc9a3289cd8f6ff",
       "version_major": 2,
       "version_minor": 0
      },
      "text/plain": [
       "Pandas Apply:   0%|          | 0/4 [00:00<?, ?it/s]"
      ]
     },
     "metadata": {},
     "output_type": "display_data"
    },
    {
     "data": {
      "application/vnd.jupyter.widget-view+json": {
       "model_id": "9928251f0f114b5c8069259e4654f45a",
       "version_major": 2,
       "version_minor": 0
      },
      "text/plain": [
       "Pandas Apply:   0%|          | 0/4 [00:00<?, ?it/s]"
      ]
     },
     "metadata": {},
     "output_type": "display_data"
    },
    {
     "data": {
      "application/vnd.jupyter.widget-view+json": {
       "model_id": "e736fcd0db8f4bd39b6b1dbb79a2c3e8",
       "version_major": 2,
       "version_minor": 0
      },
      "text/plain": [
       "Pandas Apply:   0%|          | 0/4 [00:00<?, ?it/s]"
      ]
     },
     "metadata": {},
     "output_type": "display_data"
    },
    {
     "data": {
      "application/vnd.jupyter.widget-view+json": {
       "model_id": "a52f6b55449e4cbeafee8417f8789aba",
       "version_major": 2,
       "version_minor": 0
      },
      "text/plain": [
       "Pandas Apply:   0%|          | 0/4 [00:00<?, ?it/s]"
      ]
     },
     "metadata": {},
     "output_type": "display_data"
    },
    {
     "data": {
      "application/vnd.jupyter.widget-view+json": {
       "model_id": "40289608e38b40a6bc816060e4ca6aa4",
       "version_major": 2,
       "version_minor": 0
      },
      "text/plain": [
       "Pandas Apply:   0%|          | 0/4 [00:00<?, ?it/s]"
      ]
     },
     "metadata": {},
     "output_type": "display_data"
    },
    {
     "data": {
      "application/vnd.jupyter.widget-view+json": {
       "model_id": "cc9b77c37ed9400c8ba5d985071768f5",
       "version_major": 2,
       "version_minor": 0
      },
      "text/plain": [
       "Pandas Apply:   0%|          | 0/4 [00:00<?, ?it/s]"
      ]
     },
     "metadata": {},
     "output_type": "display_data"
    },
    {
     "data": {
      "application/vnd.jupyter.widget-view+json": {
       "model_id": "f2252b15147944ddabad4a326ee03542",
       "version_major": 2,
       "version_minor": 0
      },
      "text/plain": [
       "Pandas Apply:   0%|          | 0/4 [00:00<?, ?it/s]"
      ]
     },
     "metadata": {},
     "output_type": "display_data"
    },
    {
     "data": {
      "application/vnd.jupyter.widget-view+json": {
       "model_id": "3ac27e254b93435dba4630684733fb54",
       "version_major": 2,
       "version_minor": 0
      },
      "text/plain": [
       "Pandas Apply:   0%|          | 0/4 [00:00<?, ?it/s]"
      ]
     },
     "metadata": {},
     "output_type": "display_data"
    },
    {
     "data": {
      "application/vnd.jupyter.widget-view+json": {
       "model_id": "c4f18aef3551488f8742fb016ca175a3",
       "version_major": 2,
       "version_minor": 0
      },
      "text/plain": [
       "Pandas Apply:   0%|          | 0/4 [00:00<?, ?it/s]"
      ]
     },
     "metadata": {},
     "output_type": "display_data"
    },
    {
     "data": {
      "application/vnd.jupyter.widget-view+json": {
       "model_id": "b09a11c0f1fb45bbb31d7376c098c587",
       "version_major": 2,
       "version_minor": 0
      },
      "text/plain": [
       "Pandas Apply:   0%|          | 0/4 [00:00<?, ?it/s]"
      ]
     },
     "metadata": {},
     "output_type": "display_data"
    },
    {
     "data": {
      "application/vnd.jupyter.widget-view+json": {
       "model_id": "2bd666186b304f348827bcfadeb14110",
       "version_major": 2,
       "version_minor": 0
      },
      "text/plain": [
       "Pandas Apply:   0%|          | 0/5 [00:00<?, ?it/s]"
      ]
     },
     "metadata": {},
     "output_type": "display_data"
    },
    {
     "data": {
      "application/vnd.jupyter.widget-view+json": {
       "model_id": "a8542d55369c43478f6e418d2bec4a86",
       "version_major": 2,
       "version_minor": 0
      },
      "text/plain": [
       "Pandas Apply:   0%|          | 0/5 [00:00<?, ?it/s]"
      ]
     },
     "metadata": {},
     "output_type": "display_data"
    },
    {
     "data": {
      "application/vnd.jupyter.widget-view+json": {
       "model_id": "bcdb4ad2f7f641ff9d00461d6db9236e",
       "version_major": 2,
       "version_minor": 0
      },
      "text/plain": [
       "Pandas Apply:   0%|          | 0/5 [00:00<?, ?it/s]"
      ]
     },
     "metadata": {},
     "output_type": "display_data"
    },
    {
     "data": {
      "application/vnd.jupyter.widget-view+json": {
       "model_id": "98f43076d26c4df987c7d3866d5ae18d",
       "version_major": 2,
       "version_minor": 0
      },
      "text/plain": [
       "Pandas Apply:   0%|          | 0/5 [00:00<?, ?it/s]"
      ]
     },
     "metadata": {},
     "output_type": "display_data"
    },
    {
     "data": {
      "application/vnd.jupyter.widget-view+json": {
       "model_id": "88c3a44846904f93af212dd4735a68b8",
       "version_major": 2,
       "version_minor": 0
      },
      "text/plain": [
       "Pandas Apply:   0%|          | 0/5 [00:00<?, ?it/s]"
      ]
     },
     "metadata": {},
     "output_type": "display_data"
    },
    {
     "data": {
      "application/vnd.jupyter.widget-view+json": {
       "model_id": "fe8e25370ea14575b52bc69553b65da7",
       "version_major": 2,
       "version_minor": 0
      },
      "text/plain": [
       "Pandas Apply:   0%|          | 0/5 [00:00<?, ?it/s]"
      ]
     },
     "metadata": {},
     "output_type": "display_data"
    },
    {
     "data": {
      "application/vnd.jupyter.widget-view+json": {
       "model_id": "b7f5dd65943b4fb9bced042f73ab841d",
       "version_major": 2,
       "version_minor": 0
      },
      "text/plain": [
       "Pandas Apply:   0%|          | 0/5 [00:00<?, ?it/s]"
      ]
     },
     "metadata": {},
     "output_type": "display_data"
    },
    {
     "data": {
      "application/vnd.jupyter.widget-view+json": {
       "model_id": "d54aad68e09f48ed83a2cf07d71095ee",
       "version_major": 2,
       "version_minor": 0
      },
      "text/plain": [
       "Pandas Apply:   0%|          | 0/5 [00:00<?, ?it/s]"
      ]
     },
     "metadata": {},
     "output_type": "display_data"
    },
    {
     "data": {
      "application/vnd.jupyter.widget-view+json": {
       "model_id": "9984133fdf944aa486a7c4c1de9931db",
       "version_major": 2,
       "version_minor": 0
      },
      "text/plain": [
       "Pandas Apply:   0%|          | 0/5 [00:00<?, ?it/s]"
      ]
     },
     "metadata": {},
     "output_type": "display_data"
    },
    {
     "data": {
      "application/vnd.jupyter.widget-view+json": {
       "model_id": "ae3cf6604d91431ea9dd9dd2168703ea",
       "version_major": 2,
       "version_minor": 0
      },
      "text/plain": [
       "Pandas Apply:   0%|          | 0/5 [00:00<?, ?it/s]"
      ]
     },
     "metadata": {},
     "output_type": "display_data"
    },
    {
     "data": {
      "application/vnd.jupyter.widget-view+json": {
       "model_id": "172be86721fc44a19fe58f1e94152e22",
       "version_major": 2,
       "version_minor": 0
      },
      "text/plain": [
       "Pandas Apply:   0%|          | 0/5 [00:00<?, ?it/s]"
      ]
     },
     "metadata": {},
     "output_type": "display_data"
    },
    {
     "data": {
      "application/vnd.jupyter.widget-view+json": {
       "model_id": "153d5488d9b24b9bbe58fbce8f6bf5aa",
       "version_major": 2,
       "version_minor": 0
      },
      "text/plain": [
       "Pandas Apply:   0%|          | 0/5 [00:00<?, ?it/s]"
      ]
     },
     "metadata": {},
     "output_type": "display_data"
    },
    {
     "data": {
      "application/vnd.jupyter.widget-view+json": {
       "model_id": "65ea5126943d413e97ce736924fbc41e",
       "version_major": 2,
       "version_minor": 0
      },
      "text/plain": [
       "Pandas Apply:   0%|          | 0/5 [00:00<?, ?it/s]"
      ]
     },
     "metadata": {},
     "output_type": "display_data"
    },
    {
     "data": {
      "application/vnd.jupyter.widget-view+json": {
       "model_id": "11b2e6b2448c465eb59e68b8ce5691db",
       "version_major": 2,
       "version_minor": 0
      },
      "text/plain": [
       "Pandas Apply:   0%|          | 0/5 [00:00<?, ?it/s]"
      ]
     },
     "metadata": {},
     "output_type": "display_data"
    },
    {
     "data": {
      "application/vnd.jupyter.widget-view+json": {
       "model_id": "d114fe63923749518b682f963a2a1c2b",
       "version_major": 2,
       "version_minor": 0
      },
      "text/plain": [
       "Pandas Apply:   0%|          | 0/5 [00:00<?, ?it/s]"
      ]
     },
     "metadata": {},
     "output_type": "display_data"
    },
    {
     "data": {
      "application/vnd.jupyter.widget-view+json": {
       "model_id": "efc209f286f945a29a6aea5e5c840f52",
       "version_major": 2,
       "version_minor": 0
      },
      "text/plain": [
       "Pandas Apply:   0%|          | 0/5 [00:00<?, ?it/s]"
      ]
     },
     "metadata": {},
     "output_type": "display_data"
    },
    {
     "data": {
      "application/vnd.jupyter.widget-view+json": {
       "model_id": "b6743419783249bc858cd4db2ef414b4",
       "version_major": 2,
       "version_minor": 0
      },
      "text/plain": [
       "Pandas Apply:   0%|          | 0/5 [00:00<?, ?it/s]"
      ]
     },
     "metadata": {},
     "output_type": "display_data"
    },
    {
     "data": {
      "application/vnd.jupyter.widget-view+json": {
       "model_id": "9b6cc7db7adb49c3b320af0ed043f2aa",
       "version_major": 2,
       "version_minor": 0
      },
      "text/plain": [
       "Pandas Apply:   0%|          | 0/5 [00:00<?, ?it/s]"
      ]
     },
     "metadata": {},
     "output_type": "display_data"
    },
    {
     "data": {
      "application/vnd.jupyter.widget-view+json": {
       "model_id": "6e1b1d8197004392815c94b74903c9af",
       "version_major": 2,
       "version_minor": 0
      },
      "text/plain": [
       "Pandas Apply:   0%|          | 0/5 [00:00<?, ?it/s]"
      ]
     },
     "metadata": {},
     "output_type": "display_data"
    },
    {
     "data": {
      "application/vnd.jupyter.widget-view+json": {
       "model_id": "d3334db8e74b4d2aa24a8dca33388609",
       "version_major": 2,
       "version_minor": 0
      },
      "text/plain": [
       "Pandas Apply:   0%|          | 0/5 [00:00<?, ?it/s]"
      ]
     },
     "metadata": {},
     "output_type": "display_data"
    }
   ],
   "source": [
    "error_matrix_plus_ny=[]\n",
    "for i in range(2,6):\n",
    "    for j in range(1,21):\n",
    "        error,sse,run_time=kmeans_plus_plus(bag_of_words_df.head(100000),i,10)\n",
    "        error_matrix_plus_ny.append([i,j,error,sse,run_time])\n",
    "error_df_plus_ny= pd.DataFrame(error_matrix_plus_ny,columns=['number_of_cluster', 'iteration', 'error','sse','run_time'])\n",
    "error_df_plus_ny.to_csv('kmeans_++_sa.csv')"
   ]
  },
  {
   "cell_type": "code",
   "execution_count": 23,
   "id": "e4ee56a6",
   "metadata": {},
   "outputs": [
    {
     "data": {
      "image/png": "[encoded data removed]",
      "text/plain": [
       "<Figure size 432x288 with 2 Axes>"
      ]
     },
     "metadata": {
      "needs_background": "light"
     },
     "output_type": "display_data"
    }
   ],
   "source": [
    "error_df_plus_ny=pd.read_csv('kmeans_++_sa.csv')\n",
    "\n",
    "import matplotlib.pyplot as plt\n",
    "fig, ax1 = plt.subplots()\n",
    "x=error_df_plus_ny['number_of_cluster'].value_counts().index\n",
    "y1=error_df_plus_ny.groupby(['number_of_cluster']).mean()['error']\n",
    "ax1.plot(x, y1, color='tab:blue')\n",
    "ax1.set_xlabel('Number of clusters')\n",
    "ax1.set_ylabel('Error', color='tab:blue')\n",
    "\n",
    "ax2 = ax1.twinx()\n",
    "y2 = error_df_plus_ny.groupby(['number_of_cluster']).mean()['sse']\n",
    "ax2.plot(x, y2, color='tab:orange')\n",
    "ax2.set_ylabel('SSE', color='tab:orange')\n",
    "plt.title('Error and SSE (mean)for each cluster kmeans ++ for new york data sample')\n",
    "plt.xticks(range(2, 6))\n",
    "plt.show()\n"
   ]
  },
  {
   "cell_type": "code",
   "execution_count": 3,
   "id": "6cfbba03",
   "metadata": {},
   "outputs": [],
   "source": []
  },
  {
   "cell_type": "code",
   "execution_count": null,
   "id": "91a77f77",
   "metadata": {},
   "outputs": [],
   "source": []
  },
  {
   "cell_type": "code",
   "execution_count": 24,
   "id": "59d0c266",
   "metadata": {},
   "outputs": [
    {
     "data": {
      "image/png": "[encoded data removed]",
      "text/plain": [
       "<Figure size 432x720 with 1 Axes>"
      ]
     },
     "metadata": {
      "needs_background": "light"
     },
     "output_type": "display_data"
    }
   ],
   "source": [
    "import seaborn as sns\n",
    "plt.figure(figsize=(6, 10))\n",
    "sns.boxplot(x=error_df_plus_ny['number_of_cluster'],y=error_df_plus_ny['error'])\n",
    "plt.title('Box Plot of error for K means ++ for new york data')\n",
    "plt.show()\n"
   ]
  },
  {
   "cell_type": "code",
   "execution_count": 25,
   "id": "566903b7",
   "metadata": {},
   "outputs": [
    {
     "data": {
      "image/png": "[encoded data removed]",
      "text/plain": [
       "<Figure size 432x288 with 1 Axes>"
      ]
     },
     "metadata": {
      "needs_background": "light"
     },
     "output_type": "display_data"
    }
   ],
   "source": [
    "import seaborn as sns\n",
    "sns.boxplot(x=error_df_plus_ny['number_of_cluster'],y=error_df_plus_ny['run_time'])\n",
    "plt.title('Box Plot of runtime for K means ++ for new york data')\n",
    "plt.show()\n"
   ]
  },
  {
   "cell_type": "code",
   "execution_count": 26,
   "id": "fc5b9b0a",
   "metadata": {},
   "outputs": [
    {
     "data": {
      "text/plain": [
       "0      445.946445\n",
       "1      371.357096\n",
       "2      359.599654\n",
       "3      442.194336\n",
       "4      434.855079\n",
       "         ...     \n",
       "75    1333.170424\n",
       "76    1305.301986\n",
       "77    1377.042056\n",
       "78    1422.341994\n",
       "79    1382.336245\n",
       "Name: run_time, Length: 80, dtype: float64"
      ]
     },
     "execution_count": 26,
     "metadata": {},
     "output_type": "execute_result"
    }
   ],
   "source": [
    "error_df_plus_ny['run_time']"
   ]
  },
  {
   "cell_type": "code",
   "execution_count": null,
   "id": "2c599537",
   "metadata": {},
   "outputs": [],
   "source": []
  },
  {
   "cell_type": "code",
   "execution_count": null,
   "id": "1d98b66d",
   "metadata": {},
   "outputs": [],
   "source": []
  },
  {
   "cell_type": "code",
   "execution_count": null,
   "id": "bbe2e313",
   "metadata": {},
   "outputs": [],
   "source": []
  },
  {
   "cell_type": "code",
   "execution_count": null,
   "id": "b56dfb13",
   "metadata": {},
   "outputs": [],
   "source": []
  },
  {
   "cell_type": "code",
   "execution_count": 27,
   "id": "6441350c",
   "metadata": {},
   "outputs": [],
   "source": [
    "error_df_ny=pd.read_csv('kmeans_llyod_ny_all.csv')\n",
    "error_df_sse_ny= pd.read_csv('kmeans_llyod_sse_all.csv')\n",
    "error_df_plus_ny=pd.read_csv('kmeans_++_sa.csv')\n",
    "\n",
    "error_df_ny['algo']='kmeans'\n",
    "error_df_sse_ny['algo']='kmeans_sse'\n",
    "error_df_plus_ny['algo']='kmeans_++'\n",
    "\n",
    "\n",
    "\n",
    "run_time_diab=pd.DataFrame()\n",
    "run_time_diab=pd.concat( [ error_df_ny[['algo','number_of_cluster', 'iteration', 'run_time']],\n",
    "    error_df_sse_ny[['algo','number_of_cluster', 'iteration', 'run_time']],\n",
    "       error_df_plus_ny[['algo','number_of_cluster', 'iteration', 'run_time']] ]\n",
    "                        ,ignore_index=True )"
   ]
  },
  {
   "cell_type": "code",
   "execution_count": 28,
   "id": "75f97590",
   "metadata": {},
   "outputs": [
    {
     "data": {
      "image/png": "[encoded data removed]",
      "text/plain": [
       "<Figure size 576x432 with 1 Axes>"
      ]
     },
     "metadata": {
      "needs_background": "light"
     },
     "output_type": "display_data"
    }
   ],
   "source": [
    "import seaborn as sns\n",
    "\n",
    "fig, ax = plt.subplots(figsize=(8,6))\n",
    "\n",
    "sns.boxplot(x='number_of_cluster', y='run_time', hue='algo',\n",
    "            data=run_time_diab[run_time_diab['algo'].isin (['kmeans','kmeans_sse'])],ax=ax);\n",
    "plt.title('Box Plot of run time for K means and K means with SSE for new york data')\n",
    "plt.show()"
   ]
  },
  {
   "cell_type": "code",
   "execution_count": 29,
   "id": "377714b0",
   "metadata": {},
   "outputs": [
    {
     "data": {
      "image/png": "[encoded data removed]",
      "text/plain": [
       "<Figure size 864x1080 with 1 Axes>"
      ]
     },
     "metadata": {
      "needs_background": "light"
     },
     "output_type": "display_data"
    }
   ],
   "source": [
    "import seaborn as sns\n",
    "\n",
    "fig, ax = plt.subplots(figsize=(12, 15))\n",
    "\n",
    "sns.boxplot(x='number_of_cluster', y='run_time', hue='algo',\n",
    "            data=run_time_diab,ax=ax);\n",
    "plt.title('Box Plot of run time for K means, K means with SSE,K means ++ for new york data')\n",
    "plt.show()"
   ]
  },
  {
   "cell_type": "code",
   "execution_count": null,
   "id": "6bd54cf9",
   "metadata": {},
   "outputs": [],
   "source": []
  }
 ],
 "metadata": {
  "kernelspec": {
   "display_name": "Python 3 (ipykernel)",
   "language": "python",
   "name": "python3"
  },
  "language_info": {
   "codemirror_mode": {
    "name": "ipython",
    "version": 3
   },
   "file_extension": ".py",
   "mimetype": "text/x-python",
   "name": "python",
   "nbconvert_exporter": "python",
   "pygments_lexer": "ipython3",
   "version": "3.9.8"
  }
 },
 "nbformat": 4,
 "nbformat_minor": 5
}
